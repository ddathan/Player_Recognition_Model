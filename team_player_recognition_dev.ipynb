{
 "cells": [
  {
   "cell_type": "code",
   "execution_count": 1,
   "metadata": {},
   "outputs": [],
   "source": [
    "# import libraries\n",
    "import pandas as pd\n",
    "import numpy as np\n",
    "import os\n",
    "\n",
    "# for reading and displaying images\n",
    "from skimage.io import imread\n",
    "import matplotlib.pyplot as plt\n",
    "%matplotlib inline\n",
    "\n",
    "import random\n",
    "\n",
    "# pytorch\n",
    "import torch\n",
    "import torch.nn as nn\n",
    "import torch.nn.functional as F\n",
    "import torch.optim as optim\n",
    "from torch.autograd import Variable\n",
    "\n",
    "from sklearn.model_selection import train_test_split\n",
    "from sklearn import preprocessing\n",
    "from sklearn.metrics import accuracy_score"
   ]
  },
  {
   "cell_type": "code",
   "execution_count": 2,
   "metadata": {},
   "outputs": [],
   "source": [
    "def get_image_info(dirname):\n",
    "    \n",
    "    # initialise list to keep image info\n",
    "    im_info = []\n",
    "    \n",
    "    # get all team folders\n",
    "    teams = [f.name for f in os.scandir(dirname) if f.is_dir()]\n",
    "    \n",
    "    # iterate over each team folder\n",
    "    for team in list(teams):\n",
    "        \n",
    "        # create team directory\n",
    "        teams_dir = os.path.join(dirname,team)\n",
    "        \n",
    "        # get all players for that team\n",
    "        players = [f.name for f in os.scandir(teams_dir) if f.is_dir()]\n",
    "        \n",
    "        # iterate over each player\n",
    "        for player in list(players):\n",
    "            \n",
    "            # create player directory\n",
    "            player_dir = os.path.join(dirname,team,player)\n",
    "            \n",
    "            # get all images for that player\n",
    "            images = [f.name for f in os.scandir(player_dir)]\n",
    "            \n",
    "            # iterate over all images\n",
    "            for image in images:\n",
    "                \n",
    "                # get the image path\n",
    "                impath = os.path.join(dirname,team,player,image)\n",
    "                \n",
    "                # store image info in dict\n",
    "                im_dict = {'Team':team, 'Player': player, 'Image':image, 'Path': impath}\n",
    "                \n",
    "                # append to image info list\n",
    "                im_info.append(im_dict)\n",
    "    \n",
    "    # create dataframe from image info list\n",
    "    df = pd.DataFrame(im_info)\n",
    "    \n",
    "    # return dataframe\n",
    "    return df"
   ]
  },
  {
   "cell_type": "code",
   "execution_count": 3,
   "metadata": {},
   "outputs": [],
   "source": [
    "# get dataframe containing image info\n",
    "df = get_image_info('part1')\n",
    "df = df.iloc[:500]\n",
    "# number of images\n",
    "num_ims = len(df)"
   ]
  },
  {
   "cell_type": "code",
   "execution_count": 4,
   "metadata": {},
   "outputs": [
    {
     "data": {
      "text/html": [
       "<div>\n",
       "<style scoped>\n",
       "    .dataframe tbody tr th:only-of-type {\n",
       "        vertical-align: middle;\n",
       "    }\n",
       "\n",
       "    .dataframe tbody tr th {\n",
       "        vertical-align: top;\n",
       "    }\n",
       "\n",
       "    .dataframe thead th {\n",
       "        text-align: right;\n",
       "    }\n",
       "</style>\n",
       "<table border=\"1\" class=\"dataframe\">\n",
       "  <thead>\n",
       "    <tr style=\"text-align: right;\">\n",
       "      <th></th>\n",
       "      <th>Team</th>\n",
       "      <th>Player</th>\n",
       "      <th>Image</th>\n",
       "      <th>Path</th>\n",
       "    </tr>\n",
       "  </thead>\n",
       "  <tbody>\n",
       "    <tr>\n",
       "      <th>0</th>\n",
       "      <td>bristol</td>\n",
       "      <td>person_11</td>\n",
       "      <td>0.jpg</td>\n",
       "      <td>part1\\bristol\\person_11\\0.jpg</td>\n",
       "    </tr>\n",
       "    <tr>\n",
       "      <th>1</th>\n",
       "      <td>bristol</td>\n",
       "      <td>person_11</td>\n",
       "      <td>1.jpg</td>\n",
       "      <td>part1\\bristol\\person_11\\1.jpg</td>\n",
       "    </tr>\n",
       "    <tr>\n",
       "      <th>2</th>\n",
       "      <td>bristol</td>\n",
       "      <td>person_11</td>\n",
       "      <td>10.jpg</td>\n",
       "      <td>part1\\bristol\\person_11\\10.jpg</td>\n",
       "    </tr>\n",
       "    <tr>\n",
       "      <th>3</th>\n",
       "      <td>bristol</td>\n",
       "      <td>person_11</td>\n",
       "      <td>11.jpg</td>\n",
       "      <td>part1\\bristol\\person_11\\11.jpg</td>\n",
       "    </tr>\n",
       "    <tr>\n",
       "      <th>4</th>\n",
       "      <td>bristol</td>\n",
       "      <td>person_11</td>\n",
       "      <td>12.jpg</td>\n",
       "      <td>part1\\bristol\\person_11\\12.jpg</td>\n",
       "    </tr>\n",
       "    <tr>\n",
       "      <th>...</th>\n",
       "      <td>...</td>\n",
       "      <td>...</td>\n",
       "      <td>...</td>\n",
       "      <td>...</td>\n",
       "    </tr>\n",
       "    <tr>\n",
       "      <th>495</th>\n",
       "      <td>bristol</td>\n",
       "      <td>person_25</td>\n",
       "      <td>32.jpg</td>\n",
       "      <td>part1\\bristol\\person_25\\32.jpg</td>\n",
       "    </tr>\n",
       "    <tr>\n",
       "      <th>496</th>\n",
       "      <td>bristol</td>\n",
       "      <td>person_25</td>\n",
       "      <td>33.jpg</td>\n",
       "      <td>part1\\bristol\\person_25\\33.jpg</td>\n",
       "    </tr>\n",
       "    <tr>\n",
       "      <th>497</th>\n",
       "      <td>bristol</td>\n",
       "      <td>person_25</td>\n",
       "      <td>34.jpg</td>\n",
       "      <td>part1\\bristol\\person_25\\34.jpg</td>\n",
       "    </tr>\n",
       "    <tr>\n",
       "      <th>498</th>\n",
       "      <td>bristol</td>\n",
       "      <td>person_25</td>\n",
       "      <td>35.jpg</td>\n",
       "      <td>part1\\bristol\\person_25\\35.jpg</td>\n",
       "    </tr>\n",
       "    <tr>\n",
       "      <th>499</th>\n",
       "      <td>bristol</td>\n",
       "      <td>person_25</td>\n",
       "      <td>36.jpg</td>\n",
       "      <td>part1\\bristol\\person_25\\36.jpg</td>\n",
       "    </tr>\n",
       "  </tbody>\n",
       "</table>\n",
       "<p>500 rows × 4 columns</p>\n",
       "</div>"
      ],
      "text/plain": [
       "        Team     Player   Image                            Path\n",
       "0    bristol  person_11   0.jpg   part1\\bristol\\person_11\\0.jpg\n",
       "1    bristol  person_11   1.jpg   part1\\bristol\\person_11\\1.jpg\n",
       "2    bristol  person_11  10.jpg  part1\\bristol\\person_11\\10.jpg\n",
       "3    bristol  person_11  11.jpg  part1\\bristol\\person_11\\11.jpg\n",
       "4    bristol  person_11  12.jpg  part1\\bristol\\person_11\\12.jpg\n",
       "..       ...        ...     ...                             ...\n",
       "495  bristol  person_25  32.jpg  part1\\bristol\\person_25\\32.jpg\n",
       "496  bristol  person_25  33.jpg  part1\\bristol\\person_25\\33.jpg\n",
       "497  bristol  person_25  34.jpg  part1\\bristol\\person_25\\34.jpg\n",
       "498  bristol  person_25  35.jpg  part1\\bristol\\person_25\\35.jpg\n",
       "499  bristol  person_25  36.jpg  part1\\bristol\\person_25\\36.jpg\n",
       "\n",
       "[500 rows x 4 columns]"
      ]
     },
     "execution_count": 4,
     "metadata": {},
     "output_type": "execute_result"
    }
   ],
   "source": [
    "df"
   ]
  },
  {
   "cell_type": "code",
   "execution_count": 5,
   "metadata": {},
   "outputs": [
    {
     "data": {
      "text/plain": [
       "<matplotlib.image.AxesImage at 0x2bde4408a90>"
      ]
     },
     "execution_count": 5,
     "metadata": {},
     "output_type": "execute_result"
    },
    {
     "data": {
      "image/png": "[encoded data removed]",
      "text/plain": [
       "<Figure size 432x288 with 1 Axes>"
      ]
     },
     "metadata": {
      "needs_background": "light"
     },
     "output_type": "display_data"
    }
   ],
   "source": [
    "# plot random image\n",
    "ind = random.randint(0,num_ims)\n",
    "\n",
    "image_path = df['Path'].iloc[ind]\n",
    "\n",
    "img = imread(image_path)\n",
    "\n",
    "plt.figure()\n",
    "\n",
    "plt.imshow(img)"
   ]
  },
  {
   "cell_type": "code",
   "execution_count": 6,
   "metadata": {},
   "outputs": [],
   "source": [
    "image_data = []\n",
    "\n",
    "# read in all images\n",
    "for image_path in df['Path']:\n",
    "\n",
    "    img = imread(image_path)\n",
    "    \n",
    "    image_data.append(img)"
   ]
  },
  {
   "cell_type": "code",
   "execution_count": 7,
   "metadata": {},
   "outputs": [],
   "source": [
    "input_data = np.asarray(image_data)"
   ]
  },
  {
   "cell_type": "code",
   "execution_count": 8,
   "metadata": {},
   "outputs": [
    {
     "data": {
      "text/plain": [
       "(500, 224, 224, 3)"
      ]
     },
     "execution_count": 8,
     "metadata": {},
     "output_type": "execute_result"
    }
   ],
   "source": [
    "input_data.shape"
   ]
  },
  {
   "cell_type": "code",
   "execution_count": 9,
   "metadata": {},
   "outputs": [],
   "source": [
    "label_data = df['Player'].values"
   ]
  },
  {
   "cell_type": "code",
   "execution_count": 10,
   "metadata": {},
   "outputs": [
    {
     "data": {
      "text/plain": [
       "array(['person_11', 'person_11', 'person_11', 'person_11', 'person_11',\n",
       "       'person_11', 'person_11', 'person_11', 'person_11', 'person_11',\n",
       "       'person_11', 'person_11', 'person_11', 'person_11', 'person_11',\n",
       "       'person_11', 'person_11', 'person_11', 'person_11', 'person_11',\n",
       "       'person_11', 'person_11', 'person_11', 'person_11', 'person_11',\n",
       "       'person_11', 'person_11', 'person_11', 'person_11', 'person_11',\n",
       "       'person_11', 'person_11', 'person_11', 'person_11', 'person_11',\n",
       "       'person_11', 'person_11', 'person_11', 'person_11', 'person_11',\n",
       "       'person_11', 'person_11', 'person_11', 'person_11', 'person_11',\n",
       "       'person_11', 'person_11', 'person_11', 'person_11', 'person_11',\n",
       "       'person_11', 'person_11', 'person_11', 'person_11', 'person_11',\n",
       "       'person_11', 'person_11', 'person_11', 'person_11', 'person_11',\n",
       "       'person_11', 'person_11', 'person_11', 'person_11', 'person_11',\n",
       "       'person_11', 'person_11', 'person_11', 'person_11', 'person_11',\n",
       "       'person_11', 'person_11', 'person_11', 'person_11', 'person_11',\n",
       "       'person_11', 'person_11', 'person_11', 'person_11', 'person_11',\n",
       "       'person_11', 'person_11', 'person_11', 'person_11', 'person_11',\n",
       "       'person_11', 'person_11', 'person_11', 'person_11', 'person_11',\n",
       "       'person_11', 'person_11', 'person_11', 'person_11', 'person_11',\n",
       "       'person_14', 'person_14', 'person_14', 'person_14', 'person_14',\n",
       "       'person_14', 'person_14', 'person_14', 'person_14', 'person_14',\n",
       "       'person_14', 'person_14', 'person_14', 'person_14', 'person_14',\n",
       "       'person_14', 'person_14', 'person_14', 'person_14', 'person_14',\n",
       "       'person_14', 'person_14', 'person_14', 'person_14', 'person_14',\n",
       "       'person_14', 'person_14', 'person_14', 'person_14', 'person_14',\n",
       "       'person_14', 'person_14', 'person_14', 'person_14', 'person_14',\n",
       "       'person_14', 'person_14', 'person_14', 'person_14', 'person_14',\n",
       "       'person_14', 'person_14', 'person_14', 'person_14', 'person_14',\n",
       "       'person_14', 'person_14', 'person_14', 'person_14', 'person_14',\n",
       "       'person_14', 'person_14', 'person_14', 'person_14', 'person_14',\n",
       "       'person_14', 'person_14', 'person_14', 'person_14', 'person_14',\n",
       "       'person_14', 'person_14', 'person_14', 'person_14', 'person_14',\n",
       "       'person_14', 'person_14', 'person_14', 'person_14', 'person_14',\n",
       "       'person_14', 'person_14', 'person_14', 'person_14', 'person_14',\n",
       "       'person_14', 'person_14', 'person_14', 'person_14', 'person_14',\n",
       "       'person_14', 'person_14', 'person_14', 'person_14', 'person_14',\n",
       "       'person_14', 'person_14', 'person_14', 'person_14', 'person_14',\n",
       "       'person_14', 'person_14', 'person_14', 'person_14', 'person_14',\n",
       "       'person_14', 'person_14', 'person_14', 'person_14', 'person_14',\n",
       "       'person_14', 'person_14', 'person_14', 'person_14', 'person_14',\n",
       "       'person_14', 'person_14', 'person_14', 'person_14', 'person_14',\n",
       "       'person_14', 'person_14', 'person_14', 'person_14', 'person_14',\n",
       "       'person_14', 'person_14', 'person_14', 'person_14', 'person_14',\n",
       "       'person_14', 'person_14', 'person_14', 'person_14', 'person_14',\n",
       "       'person_14', 'person_14', 'person_14', 'person_14', 'person_14',\n",
       "       'person_14', 'person_14', 'person_14', 'person_14', 'person_14',\n",
       "       'person_14', 'person_14', 'person_14', 'person_14', 'person_14',\n",
       "       'person_14', 'person_14', 'person_14', 'person_14', 'person_14',\n",
       "       'person_14', 'person_14', 'person_14', 'person_14', 'person_14',\n",
       "       'person_14', 'person_14', 'person_14', 'person_14', 'person_14',\n",
       "       'person_14', 'person_14', 'person_14', 'person_14', 'person_14',\n",
       "       'person_14', 'person_19', 'person_19', 'person_19', 'person_19',\n",
       "       'person_19', 'person_19', 'person_19', 'person_19', 'person_19',\n",
       "       'person_19', 'person_19', 'person_19', 'person_19', 'person_19',\n",
       "       'person_19', 'person_19', 'person_19', 'person_19', 'person_19',\n",
       "       'person_19', 'person_19', 'person_19', 'person_19', 'person_19',\n",
       "       'person_19', 'person_19', 'person_19', 'person_19', 'person_19',\n",
       "       'person_19', 'person_19', 'person_19', 'person_19', 'person_19',\n",
       "       'person_19', 'person_19', 'person_19', 'person_19', 'person_19',\n",
       "       'person_19', 'person_19', 'person_2', 'person_2', 'person_2',\n",
       "       'person_2', 'person_2', 'person_2', 'person_2', 'person_2',\n",
       "       'person_2', 'person_2', 'person_2', 'person_2', 'person_2',\n",
       "       'person_2', 'person_2', 'person_2', 'person_2', 'person_23',\n",
       "       'person_23', 'person_23', 'person_23', 'person_23', 'person_23',\n",
       "       'person_23', 'person_23', 'person_23', 'person_23', 'person_23',\n",
       "       'person_23', 'person_23', 'person_23', 'person_23', 'person_23',\n",
       "       'person_23', 'person_23', 'person_23', 'person_23', 'person_23',\n",
       "       'person_23', 'person_23', 'person_23', 'person_23', 'person_23',\n",
       "       'person_23', 'person_23', 'person_23', 'person_23', 'person_23',\n",
       "       'person_23', 'person_23', 'person_23', 'person_23', 'person_23',\n",
       "       'person_23', 'person_23', 'person_23', 'person_23', 'person_23',\n",
       "       'person_23', 'person_23', 'person_23', 'person_23', 'person_23',\n",
       "       'person_23', 'person_23', 'person_23', 'person_23', 'person_23',\n",
       "       'person_23', 'person_23', 'person_23', 'person_23', 'person_23',\n",
       "       'person_23', 'person_23', 'person_23', 'person_23', 'person_23',\n",
       "       'person_23', 'person_23', 'person_23', 'person_23', 'person_23',\n",
       "       'person_23', 'person_23', 'person_23', 'person_23', 'person_23',\n",
       "       'person_23', 'person_23', 'person_23', 'person_23', 'person_23',\n",
       "       'person_23', 'person_23', 'person_23', 'person_23', 'person_23',\n",
       "       'person_23', 'person_23', 'person_23', 'person_23', 'person_23',\n",
       "       'person_23', 'person_23', 'person_23', 'person_23', 'person_23',\n",
       "       'person_23', 'person_23', 'person_23', 'person_23', 'person_23',\n",
       "       'person_23', 'person_23', 'person_23', 'person_23', 'person_23',\n",
       "       'person_23', 'person_23', 'person_23', 'person_23', 'person_23',\n",
       "       'person_23', 'person_23', 'person_23', 'person_23', 'person_23',\n",
       "       'person_23', 'person_23', 'person_25', 'person_25', 'person_25',\n",
       "       'person_25', 'person_25', 'person_25', 'person_25', 'person_25',\n",
       "       'person_25', 'person_25', 'person_25', 'person_25', 'person_25',\n",
       "       'person_25', 'person_25', 'person_25', 'person_25', 'person_25',\n",
       "       'person_25', 'person_25', 'person_25', 'person_25', 'person_25',\n",
       "       'person_25', 'person_25', 'person_25', 'person_25', 'person_25',\n",
       "       'person_25', 'person_25', 'person_25', 'person_25', 'person_25',\n",
       "       'person_25', 'person_25', 'person_25', 'person_25', 'person_25',\n",
       "       'person_25', 'person_25', 'person_25', 'person_25', 'person_25',\n",
       "       'person_25', 'person_25', 'person_25', 'person_25', 'person_25',\n",
       "       'person_25', 'person_25', 'person_25', 'person_25', 'person_25',\n",
       "       'person_25', 'person_25', 'person_25', 'person_25', 'person_25',\n",
       "       'person_25', 'person_25', 'person_25', 'person_25', 'person_25',\n",
       "       'person_25', 'person_25', 'person_25', 'person_25', 'person_25',\n",
       "       'person_25', 'person_25', 'person_25', 'person_25', 'person_25'],\n",
       "      dtype=object)"
      ]
     },
     "execution_count": 10,
     "metadata": {},
     "output_type": "execute_result"
    }
   ],
   "source": [
    "label_data"
   ]
  },
  {
   "cell_type": "code",
   "execution_count": 11,
   "metadata": {},
   "outputs": [
    {
     "data": {
      "text/plain": [
       "6"
      ]
     },
     "execution_count": 11,
     "metadata": {},
     "output_type": "execute_result"
    }
   ],
   "source": [
    "len(np.unique(label_data))"
   ]
  },
  {
   "cell_type": "code",
   "execution_count": 12,
   "metadata": {},
   "outputs": [],
   "source": [
    "class Net(nn.Module):\n",
    "    def __init__(self):\n",
    "        super(Net, self).__init__()\n",
    "        self.conv1 = nn.Conv2d(3, 6, kernel_size=3, stride=1, padding=1)\n",
    "        self.pool = nn.MaxPool2d(2, 2)\n",
    "        #self.conv2 = nn.Conv2d(6, 8, kernel_size=3, stride=1, padding=1)\n",
    "        self.fc1 = nn.Linear(6 * 112 * 112, 84)\n",
    "        #self.fc2 = nn.Linear(120, 84)\n",
    "        self.fc3 = nn.Linear(84, 6)\n",
    "\n",
    "    def forward(self, x):\n",
    "        x = self.pool(F.relu(self.conv1(x)))\n",
    "        #x = self.pool(F.relu(self.conv2(x)))\n",
    "        #print(x.size())\n",
    "        x = x.view(-1,6 * 112 * 112)\n",
    "        x = F.relu(self.fc1(x))\n",
    "        #x = F.relu(self.fc2(x))\n",
    "        x = self.fc3(x)\n",
    "        return x\n",
    "\n",
    "\n",
    "model = Net()"
   ]
  },
  {
   "cell_type": "code",
   "execution_count": 13,
   "metadata": {},
   "outputs": [],
   "source": [
    "criterion = nn.CrossEntropyLoss()\n",
    "optimizer = optim.SGD(model.parameters(), lr=0.001, momentum=0.9)"
   ]
  },
  {
   "cell_type": "code",
   "execution_count": 14,
   "metadata": {},
   "outputs": [
    {
     "data": {
      "text/plain": [
       "(350, 224, 224, 3)"
      ]
     },
     "execution_count": 14,
     "metadata": {},
     "output_type": "execute_result"
    }
   ],
   "source": [
    "# create validation set\n",
    "train_x, val_x, train_y, val_y = train_test_split(input_data, label_data, test_size = 0.3,random_state=42)\n",
    "\n",
    "train_x_shape = train_x.shape\n",
    "train_y_shape = train_y.shape\n",
    "val_x_shape = train_x.shape\n",
    "val_y_shape = val_y.shape\n",
    "\n",
    "train_x_shape"
   ]
  },
  {
   "cell_type": "code",
   "execution_count": 15,
   "metadata": {},
   "outputs": [
    {
     "data": {
      "text/plain": [
       "str"
      ]
     },
     "execution_count": 15,
     "metadata": {},
     "output_type": "execute_result"
    }
   ],
   "source": [
    "type(train_y[0])"
   ]
  },
  {
   "cell_type": "code",
   "execution_count": 16,
   "metadata": {},
   "outputs": [
    {
     "data": {
      "text/plain": [
       "(torch.Size([350, 3, 224, 224]), torch.Size([350]))"
      ]
     },
     "execution_count": 16,
     "metadata": {},
     "output_type": "execute_result"
    }
   ],
   "source": [
    "# converting training images into torch format\n",
    "train_x  = torch.from_numpy(train_x).float()\n",
    "val_x  = torch.from_numpy(val_x).float()\n",
    "\n",
    "# encode labels\n",
    "le = preprocessing.LabelEncoder()\n",
    "targets = le.fit_transform(list(train_y))\n",
    "# converting the target into torch format\n",
    "train_y = torch.from_numpy(targets).long()\n",
    "# encode validation labels\n",
    "val_y = le.transform(list(val_y))\n",
    "val_y = torch.from_numpy(val_y).long()\n",
    "\n",
    "# transform shape\n",
    "train_x = train_x.transpose(1,3)\n",
    "val_x = val_x.transpose(1,3)\n",
    "\n",
    "# shape of training data\n",
    "train_x.shape, train_y.shape"
   ]
  },
  {
   "cell_type": "code",
   "execution_count": 17,
   "metadata": {},
   "outputs": [
    {
     "data": {
      "text/plain": [
       "torch.Tensor"
      ]
     },
     "execution_count": 17,
     "metadata": {},
     "output_type": "execute_result"
    }
   ],
   "source": [
    "type(train_y[0])"
   ]
  },
  {
   "cell_type": "code",
   "execution_count": 18,
   "metadata": {},
   "outputs": [],
   "source": [
    "def train(epoch):\n",
    "    model.train()\n",
    "    tr_loss = 0\n",
    "    # getting the training set\n",
    "    x_train = Variable(train_x)\n",
    "    y_train =  Variable(train_y)\n",
    "    # getting the validation set\n",
    "    x_val = Variable(val_x)\n",
    "    y_val = Variable(val_y)\n",
    "\n",
    "\n",
    "    # clearing the Gradients of the model parameters\n",
    "    optimizer.zero_grad()\n",
    "    \n",
    "    # prediction for training and validation set\n",
    "    output_train = model(x_train)\n",
    "    output_val = model(x_val)\n",
    "\n",
    "    # computing the training and validation loss\n",
    "    loss_train = criterion(output_train, y_train)\n",
    "    loss_val = criterion(output_val, y_val)\n",
    "    train_losses.append(loss_train)\n",
    "    val_losses.append(loss_val)\n",
    "\n",
    "    # computing the updated weights of all the model parameters\n",
    "    loss_train.backward()\n",
    "    optimizer.step()\n",
    "    tr_loss = loss_train.item()\n",
    "    if epoch%2 == 0:\n",
    "        # printing the validation loss\n",
    "        print('Epoch : ',epoch+1, '\\t', 'loss :', loss_val)"
   ]
  },
  {
   "cell_type": "code",
   "execution_count": 19,
   "metadata": {},
   "outputs": [
    {
     "name": "stdout",
     "output_type": "stream",
     "text": [
      "Epoch :  1 \t loss : tensor(4.8300, grad_fn=<NllLossBackward>)\n",
      "Epoch :  3 \t loss : tensor(3.3195, grad_fn=<NllLossBackward>)\n",
      "Epoch :  5 \t loss : tensor(1.7656, grad_fn=<NllLossBackward>)\n",
      "Epoch :  7 \t loss : tensor(1.7757, grad_fn=<NllLossBackward>)\n",
      "Epoch :  9 \t loss : tensor(1.7815, grad_fn=<NllLossBackward>)\n",
      "Epoch :  11 \t loss : tensor(1.7837, grad_fn=<NllLossBackward>)\n",
      "Epoch :  13 \t loss : tensor(1.7815, grad_fn=<NllLossBackward>)\n",
      "Epoch :  15 \t loss : tensor(1.7732, grad_fn=<NllLossBackward>)\n"
     ]
    }
   ],
   "source": [
    "# defining the number of epochs\n",
    "n_epochs = 15\n",
    "# empty list to store training losses\n",
    "train_losses = []\n",
    "# empty list to store validation losses\n",
    "val_losses = []\n",
    "# training the model\n",
    "for epoch in range(n_epochs):\n",
    "    train(epoch)"
   ]
  },
  {
   "cell_type": "code",
   "execution_count": 20,
   "metadata": {},
   "outputs": [
    {
     "data": {
      "text/plain": [
       "[tensor(5.6693, grad_fn=<NllLossBackward>),\n",
       " tensor(215.2779, grad_fn=<NllLossBackward>),\n",
       " tensor(4.2283, grad_fn=<NllLossBackward>),\n",
       " tensor(1.7934, grad_fn=<NllLossBackward>),\n",
       " tensor(1.7857, grad_fn=<NllLossBackward>),\n",
       " tensor(1.7745, grad_fn=<NllLossBackward>),\n",
       " tensor(1.7655, grad_fn=<NllLossBackward>),\n",
       " tensor(1.7636, grad_fn=<NllLossBackward>),\n",
       " tensor(1.7618, grad_fn=<NllLossBackward>),\n",
       " tensor(1.7596, grad_fn=<NllLossBackward>),\n",
       " tensor(1.7569, grad_fn=<NllLossBackward>),\n",
       " tensor(1.7538, grad_fn=<NllLossBackward>),\n",
       " tensor(1.7501, grad_fn=<NllLossBackward>),\n",
       " tensor(1.7458, grad_fn=<NllLossBackward>),\n",
       " tensor(1.7402, grad_fn=<NllLossBackward>)]"
      ]
     },
     "execution_count": 20,
     "metadata": {},
     "output_type": "execute_result"
    }
   ],
   "source": [
    "train_losses"
   ]
  },
  {
   "cell_type": "code",
   "execution_count": 21,
   "metadata": {},
   "outputs": [
    {
     "data": {
      "text/plain": [
       "[tensor(4.8300, grad_fn=<NllLossBackward>),\n",
       " tensor(222.4660, grad_fn=<NllLossBackward>),\n",
       " tensor(3.3195, grad_fn=<NllLossBackward>),\n",
       " tensor(1.7599, grad_fn=<NllLossBackward>),\n",
       " tensor(1.7656, grad_fn=<NllLossBackward>),\n",
       " tensor(1.7714, grad_fn=<NllLossBackward>),\n",
       " tensor(1.7757, grad_fn=<NllLossBackward>),\n",
       " tensor(1.7791, grad_fn=<NllLossBackward>),\n",
       " tensor(1.7815, grad_fn=<NllLossBackward>),\n",
       " tensor(1.7831, grad_fn=<NllLossBackward>),\n",
       " tensor(1.7837, grad_fn=<NllLossBackward>),\n",
       " tensor(1.7832, grad_fn=<NllLossBackward>),\n",
       " tensor(1.7815, grad_fn=<NllLossBackward>),\n",
       " tensor(1.7783, grad_fn=<NllLossBackward>),\n",
       " tensor(1.7732, grad_fn=<NllLossBackward>)]"
      ]
     },
     "execution_count": 21,
     "metadata": {},
     "output_type": "execute_result"
    }
   ],
   "source": [
    "val_losses"
   ]
  },
  {
   "cell_type": "code",
   "execution_count": 22,
   "metadata": {},
   "outputs": [],
   "source": [
    "conv_layer = nn.Conv2d(in_channels = 6, out_channels = 16, kernel_size = (3,3), stride = 1, padding=1)"
   ]
  },
  {
   "cell_type": "code",
   "execution_count": 23,
   "metadata": {},
   "outputs": [
    {
     "data": {
      "text/plain": [
       "torch.Size([100, 16, 224, 224])"
      ]
     },
     "execution_count": 23,
     "metadata": {},
     "output_type": "execute_result"
    }
   ],
   "source": [
    "x = torch.randn((100,6,224,224))\n",
    "conv_layer(x).size()"
   ]
  },
  {
   "cell_type": "code",
   "execution_count": 24,
   "metadata": {},
   "outputs": [],
   "source": [
    "x_in = torch.randn(100,16,224,224)\n",
    "pool_layer = nn.MaxPool2d(2, 2)"
   ]
  },
  {
   "cell_type": "code",
   "execution_count": 25,
   "metadata": {},
   "outputs": [
    {
     "data": {
      "text/plain": [
       "torch.Size([100, 16, 112, 112])"
      ]
     },
     "execution_count": 25,
     "metadata": {},
     "output_type": "execute_result"
    }
   ],
   "source": [
    "pool_layer(x_in).size()"
   ]
  },
  {
   "cell_type": "code",
   "execution_count": 26,
   "metadata": {},
   "outputs": [],
   "source": [
    "outputs = model(train_x)"
   ]
  },
  {
   "cell_type": "code",
   "execution_count": 27,
   "metadata": {},
   "outputs": [],
   "source": [
    "_, predicted = torch.max(outputs, 1)"
   ]
  },
  {
   "cell_type": "code",
   "execution_count": 28,
   "metadata": {},
   "outputs": [
    {
     "data": {
      "text/plain": [
       "tensor([4, 0, 1, 4, 0, 4, 0, 0, 1, 0, 0, 4, 1, 1, 0, 0, 0, 1, 0, 1, 0, 0, 0, 0,\n",
       "        0, 0, 0, 0, 4, 0, 0, 1, 4, 1, 0, 0, 4, 1, 1, 1, 0, 4, 4, 1, 1, 1, 0, 0,\n",
       "        0, 0, 4, 1, 0, 1, 1, 1, 1, 0, 1, 0, 4, 1, 4, 4, 4, 0, 0, 4, 0, 0, 0, 1,\n",
       "        0, 1, 0, 4, 4, 0, 1, 0, 0, 0, 0, 0, 4, 0, 4, 0, 0, 4, 0, 1, 0, 0, 0, 4,\n",
       "        0, 0, 1, 0, 1, 0, 0, 0, 1, 1, 0, 0, 0, 0, 1, 0, 4, 1, 0, 1, 0, 0, 4, 0,\n",
       "        1, 0, 4, 0, 0, 4, 0, 1, 1, 1, 1, 1, 0, 1, 0, 4, 1, 1, 1, 1, 1, 1, 4, 1,\n",
       "        0, 1, 1, 1, 4, 1, 4, 1, 1, 0, 0, 1, 0, 1, 0, 0, 4, 1, 0, 1, 0, 1, 1, 0,\n",
       "        0, 1, 0, 0, 0, 0, 0, 1, 0, 1, 1, 1, 0, 0, 0, 0, 4, 4, 1, 0, 1, 1, 0, 0,\n",
       "        4, 4, 0, 1, 1, 0, 1, 1, 4, 4, 1, 1, 0, 4, 1, 4, 1, 1, 4, 0, 1, 0, 1, 4,\n",
       "        1, 1, 1, 0, 0, 0, 1, 1, 1, 0, 4, 0, 0, 0, 0, 0, 0, 4, 0, 0, 1, 0, 0, 0,\n",
       "        0, 0, 1, 1, 1, 1, 1, 0, 1, 1, 0, 1, 0, 4, 0, 1, 3, 0, 0, 1, 0, 0, 1, 4,\n",
       "        1, 1, 0, 0, 1, 4, 1, 1, 0, 0, 3, 0, 0, 1, 1, 1, 0, 0, 4, 4, 0, 1, 1, 1,\n",
       "        0, 0, 0, 1, 1, 1, 0, 1, 0, 1, 1, 0, 4, 1, 1, 1, 0, 1, 0, 1, 4, 1, 1, 0,\n",
       "        0, 1, 1, 4, 0, 4, 0, 0, 1, 0, 1, 1, 0, 4, 4, 0, 4, 0, 1, 0, 1, 1, 4, 0,\n",
       "        0, 0, 1, 0, 0, 0, 0, 1, 0, 0, 1, 4, 0, 4])"
      ]
     },
     "execution_count": 28,
     "metadata": {},
     "output_type": "execute_result"
    }
   ],
   "source": [
    "predicted"
   ]
  },
  {
   "cell_type": "code",
   "execution_count": 29,
   "metadata": {},
   "outputs": [
    {
     "data": {
      "text/plain": [
       "tensor([0, 1, 0, 0, 5, 4, 0, 1, 4, 0, 1, 4, 5, 0, 5, 5, 0, 0, 5, 1, 0, 1, 5, 1,\n",
       "        1, 1, 4, 1, 1, 4, 4, 1, 4, 2, 5, 1, 4, 0, 1, 1, 5, 4, 4, 2, 1, 1, 1, 0,\n",
       "        1, 4, 5, 0, 1, 1, 1, 1, 1, 0, 5, 4, 1, 1, 3, 3, 1, 4, 4, 1, 4, 1, 4, 2,\n",
       "        0, 1, 1, 4, 1, 5, 2, 0, 1, 0, 5, 0, 4, 4, 4, 1, 1, 1, 4, 1, 5, 0, 4, 1,\n",
       "        0, 0, 4, 1, 5, 2, 5, 1, 3, 4, 1, 4, 1, 5, 2, 1, 4, 1, 1, 1, 5, 1, 4, 1,\n",
       "        1, 1, 1, 3, 3, 4, 4, 4, 2, 1, 3, 1, 4, 1, 1, 4, 2, 5, 4, 2, 4, 2, 4, 4,\n",
       "        1, 1, 3, 5, 5, 5, 4, 1, 3, 1, 1, 1, 2, 1, 1, 1, 4, 1, 4, 4, 1, 2, 4, 1,\n",
       "        4, 4, 1, 5, 0, 5, 0, 2, 0, 1, 1, 4, 1, 0, 0, 0, 1, 1, 4, 4, 1, 1, 0, 1,\n",
       "        5, 4, 1, 0, 5, 4, 1, 2, 1, 4, 0, 2, 5, 1, 1, 5, 1, 1, 1, 2, 1, 0, 0, 0,\n",
       "        2, 4, 1, 5, 0, 4, 1, 2, 2, 1, 4, 1, 0, 1, 1, 5, 0, 4, 5, 0, 3, 0, 1, 0,\n",
       "        4, 5, 4, 1, 2, 5, 5, 4, 1, 1, 1, 2, 5, 1, 5, 5, 3, 4, 2, 1, 1, 0, 1, 4,\n",
       "        1, 3, 2, 1, 0, 4, 0, 5, 5, 0, 4, 0, 1, 0, 2, 5, 4, 0, 4, 5, 0, 4, 2, 1,\n",
       "        0, 4, 0, 4, 2, 1, 4, 5, 1, 3, 5, 4, 1, 0, 4, 0, 5, 1, 5, 1, 5, 1, 1, 0,\n",
       "        0, 4, 1, 1, 0, 3, 5, 1, 2, 5, 1, 4, 2, 4, 4, 2, 3, 1, 1, 1, 4, 1, 4, 0,\n",
       "        5, 4, 1, 5, 1, 5, 0, 1, 0, 1, 2, 4, 5, 1])"
      ]
     },
     "execution_count": 29,
     "metadata": {},
     "output_type": "execute_result"
    }
   ],
   "source": [
    "train_y"
   ]
  },
  {
   "cell_type": "code",
   "execution_count": 30,
   "metadata": {},
   "outputs": [
    {
     "data": {
      "text/plain": [
       "0.3457142857142857"
      ]
     },
     "execution_count": 30,
     "metadata": {},
     "output_type": "execute_result"
    }
   ],
   "source": [
    "accuracy_score(train_y, predicted)"
   ]
  },
  {
   "cell_type": "code",
   "execution_count": 31,
   "metadata": {},
   "outputs": [
    {
     "ename": "RuntimeError",
     "evalue": "[enforce fail at ..\\c10\\core\\CPUAllocator.cpp:73] data. DefaultCPUAllocator: not enough memory: you tried to allocate 180633600 bytes. Buy new RAM!",
     "output_type": "error",
     "traceback": [
      "\u001b[1;31m---------------------------------------------------------------------------\u001b[0m",
      "\u001b[1;31mRuntimeError\u001b[0m                              Traceback (most recent call last)",
      "\u001b[1;32m<ipython-input-31-e871e4647f4f>\u001b[0m in \u001b[0;36m<module>\u001b[1;34m\u001b[0m\n\u001b[1;32m----> 1\u001b[1;33m \u001b[0moutputs_val\u001b[0m \u001b[1;33m=\u001b[0m \u001b[0mmodel\u001b[0m\u001b[1;33m(\u001b[0m\u001b[0mval_x\u001b[0m\u001b[1;33m)\u001b[0m\u001b[1;33m\u001b[0m\u001b[1;33m\u001b[0m\u001b[0m\n\u001b[0m\u001b[0;32m      2\u001b[0m \u001b[0m_\u001b[0m\u001b[1;33m,\u001b[0m \u001b[0mpredicted_val\u001b[0m \u001b[1;33m=\u001b[0m \u001b[0mtorch\u001b[0m\u001b[1;33m.\u001b[0m\u001b[0mmax\u001b[0m\u001b[1;33m(\u001b[0m\u001b[0moutputs_val\u001b[0m\u001b[1;33m,\u001b[0m \u001b[1;36m1\u001b[0m\u001b[1;33m)\u001b[0m\u001b[1;33m\u001b[0m\u001b[1;33m\u001b[0m\u001b[0m\n",
      "\u001b[1;32mC:\\ProgramData\\Anaconda3\\lib\\site-packages\\torch\\nn\\modules\\module.py\u001b[0m in \u001b[0;36m_call_impl\u001b[1;34m(self, *input, **kwargs)\u001b[0m\n\u001b[0;32m    725\u001b[0m             \u001b[0mresult\u001b[0m \u001b[1;33m=\u001b[0m \u001b[0mself\u001b[0m\u001b[1;33m.\u001b[0m\u001b[0m_slow_forward\u001b[0m\u001b[1;33m(\u001b[0m\u001b[1;33m*\u001b[0m\u001b[0minput\u001b[0m\u001b[1;33m,\u001b[0m \u001b[1;33m**\u001b[0m\u001b[0mkwargs\u001b[0m\u001b[1;33m)\u001b[0m\u001b[1;33m\u001b[0m\u001b[1;33m\u001b[0m\u001b[0m\n\u001b[0;32m    726\u001b[0m         \u001b[1;32melse\u001b[0m\u001b[1;33m:\u001b[0m\u001b[1;33m\u001b[0m\u001b[1;33m\u001b[0m\u001b[0m\n\u001b[1;32m--> 727\u001b[1;33m             \u001b[0mresult\u001b[0m \u001b[1;33m=\u001b[0m \u001b[0mself\u001b[0m\u001b[1;33m.\u001b[0m\u001b[0mforward\u001b[0m\u001b[1;33m(\u001b[0m\u001b[1;33m*\u001b[0m\u001b[0minput\u001b[0m\u001b[1;33m,\u001b[0m \u001b[1;33m**\u001b[0m\u001b[0mkwargs\u001b[0m\u001b[1;33m)\u001b[0m\u001b[1;33m\u001b[0m\u001b[1;33m\u001b[0m\u001b[0m\n\u001b[0m\u001b[0;32m    728\u001b[0m         for hook in itertools.chain(\n\u001b[0;32m    729\u001b[0m                 \u001b[0m_global_forward_hooks\u001b[0m\u001b[1;33m.\u001b[0m\u001b[0mvalues\u001b[0m\u001b[1;33m(\u001b[0m\u001b[1;33m)\u001b[0m\u001b[1;33m,\u001b[0m\u001b[1;33m\u001b[0m\u001b[1;33m\u001b[0m\u001b[0m\n",
      "\u001b[1;32m<ipython-input-12-e9612bfb2f3d>\u001b[0m in \u001b[0;36mforward\u001b[1;34m(self, x)\u001b[0m\n\u001b[0;32m     10\u001b[0m \u001b[1;33m\u001b[0m\u001b[0m\n\u001b[0;32m     11\u001b[0m     \u001b[1;32mdef\u001b[0m \u001b[0mforward\u001b[0m\u001b[1;33m(\u001b[0m\u001b[0mself\u001b[0m\u001b[1;33m,\u001b[0m \u001b[0mx\u001b[0m\u001b[1;33m)\u001b[0m\u001b[1;33m:\u001b[0m\u001b[1;33m\u001b[0m\u001b[1;33m\u001b[0m\u001b[0m\n\u001b[1;32m---> 12\u001b[1;33m         \u001b[0mx\u001b[0m \u001b[1;33m=\u001b[0m \u001b[0mself\u001b[0m\u001b[1;33m.\u001b[0m\u001b[0mpool\u001b[0m\u001b[1;33m(\u001b[0m\u001b[0mF\u001b[0m\u001b[1;33m.\u001b[0m\u001b[0mrelu\u001b[0m\u001b[1;33m(\u001b[0m\u001b[0mself\u001b[0m\u001b[1;33m.\u001b[0m\u001b[0mconv1\u001b[0m\u001b[1;33m(\u001b[0m\u001b[0mx\u001b[0m\u001b[1;33m)\u001b[0m\u001b[1;33m)\u001b[0m\u001b[1;33m)\u001b[0m\u001b[1;33m\u001b[0m\u001b[1;33m\u001b[0m\u001b[0m\n\u001b[0m\u001b[0;32m     13\u001b[0m         \u001b[1;31m#x = self.pool(F.relu(self.conv2(x)))\u001b[0m\u001b[1;33m\u001b[0m\u001b[1;33m\u001b[0m\u001b[1;33m\u001b[0m\u001b[0m\n\u001b[0;32m     14\u001b[0m         \u001b[1;31m#print(x.size())\u001b[0m\u001b[1;33m\u001b[0m\u001b[1;33m\u001b[0m\u001b[1;33m\u001b[0m\u001b[0m\n",
      "\u001b[1;32mC:\\ProgramData\\Anaconda3\\lib\\site-packages\\torch\\nn\\modules\\module.py\u001b[0m in \u001b[0;36m_call_impl\u001b[1;34m(self, *input, **kwargs)\u001b[0m\n\u001b[0;32m    725\u001b[0m             \u001b[0mresult\u001b[0m \u001b[1;33m=\u001b[0m \u001b[0mself\u001b[0m\u001b[1;33m.\u001b[0m\u001b[0m_slow_forward\u001b[0m\u001b[1;33m(\u001b[0m\u001b[1;33m*\u001b[0m\u001b[0minput\u001b[0m\u001b[1;33m,\u001b[0m \u001b[1;33m**\u001b[0m\u001b[0mkwargs\u001b[0m\u001b[1;33m)\u001b[0m\u001b[1;33m\u001b[0m\u001b[1;33m\u001b[0m\u001b[0m\n\u001b[0;32m    726\u001b[0m         \u001b[1;32melse\u001b[0m\u001b[1;33m:\u001b[0m\u001b[1;33m\u001b[0m\u001b[1;33m\u001b[0m\u001b[0m\n\u001b[1;32m--> 727\u001b[1;33m             \u001b[0mresult\u001b[0m \u001b[1;33m=\u001b[0m \u001b[0mself\u001b[0m\u001b[1;33m.\u001b[0m\u001b[0mforward\u001b[0m\u001b[1;33m(\u001b[0m\u001b[1;33m*\u001b[0m\u001b[0minput\u001b[0m\u001b[1;33m,\u001b[0m \u001b[1;33m**\u001b[0m\u001b[0mkwargs\u001b[0m\u001b[1;33m)\u001b[0m\u001b[1;33m\u001b[0m\u001b[1;33m\u001b[0m\u001b[0m\n\u001b[0m\u001b[0;32m    728\u001b[0m         for hook in itertools.chain(\n\u001b[0;32m    729\u001b[0m                 \u001b[0m_global_forward_hooks\u001b[0m\u001b[1;33m.\u001b[0m\u001b[0mvalues\u001b[0m\u001b[1;33m(\u001b[0m\u001b[1;33m)\u001b[0m\u001b[1;33m,\u001b[0m\u001b[1;33m\u001b[0m\u001b[1;33m\u001b[0m\u001b[0m\n",
      "\u001b[1;32mC:\\ProgramData\\Anaconda3\\lib\\site-packages\\torch\\nn\\modules\\conv.py\u001b[0m in \u001b[0;36mforward\u001b[1;34m(self, input)\u001b[0m\n\u001b[0;32m    421\u001b[0m \u001b[1;33m\u001b[0m\u001b[0m\n\u001b[0;32m    422\u001b[0m     \u001b[1;32mdef\u001b[0m \u001b[0mforward\u001b[0m\u001b[1;33m(\u001b[0m\u001b[0mself\u001b[0m\u001b[1;33m,\u001b[0m \u001b[0minput\u001b[0m\u001b[1;33m:\u001b[0m \u001b[0mTensor\u001b[0m\u001b[1;33m)\u001b[0m \u001b[1;33m->\u001b[0m \u001b[0mTensor\u001b[0m\u001b[1;33m:\u001b[0m\u001b[1;33m\u001b[0m\u001b[1;33m\u001b[0m\u001b[0m\n\u001b[1;32m--> 423\u001b[1;33m         \u001b[1;32mreturn\u001b[0m \u001b[0mself\u001b[0m\u001b[1;33m.\u001b[0m\u001b[0m_conv_forward\u001b[0m\u001b[1;33m(\u001b[0m\u001b[0minput\u001b[0m\u001b[1;33m,\u001b[0m \u001b[0mself\u001b[0m\u001b[1;33m.\u001b[0m\u001b[0mweight\u001b[0m\u001b[1;33m)\u001b[0m\u001b[1;33m\u001b[0m\u001b[1;33m\u001b[0m\u001b[0m\n\u001b[0m\u001b[0;32m    424\u001b[0m \u001b[1;33m\u001b[0m\u001b[0m\n\u001b[0;32m    425\u001b[0m \u001b[1;32mclass\u001b[0m \u001b[0mConv3d\u001b[0m\u001b[1;33m(\u001b[0m\u001b[0m_ConvNd\u001b[0m\u001b[1;33m)\u001b[0m\u001b[1;33m:\u001b[0m\u001b[1;33m\u001b[0m\u001b[1;33m\u001b[0m\u001b[0m\n",
      "\u001b[1;32mC:\\ProgramData\\Anaconda3\\lib\\site-packages\\torch\\nn\\modules\\conv.py\u001b[0m in \u001b[0;36m_conv_forward\u001b[1;34m(self, input, weight)\u001b[0m\n\u001b[0;32m    418\u001b[0m                             _pair(0), self.dilation, self.groups)\n\u001b[0;32m    419\u001b[0m         return F.conv2d(input, weight, self.bias, self.stride,\n\u001b[1;32m--> 420\u001b[1;33m                         self.padding, self.dilation, self.groups)\n\u001b[0m\u001b[0;32m    421\u001b[0m \u001b[1;33m\u001b[0m\u001b[0m\n\u001b[0;32m    422\u001b[0m     \u001b[1;32mdef\u001b[0m \u001b[0mforward\u001b[0m\u001b[1;33m(\u001b[0m\u001b[0mself\u001b[0m\u001b[1;33m,\u001b[0m \u001b[0minput\u001b[0m\u001b[1;33m:\u001b[0m \u001b[0mTensor\u001b[0m\u001b[1;33m)\u001b[0m \u001b[1;33m->\u001b[0m \u001b[0mTensor\u001b[0m\u001b[1;33m:\u001b[0m\u001b[1;33m\u001b[0m\u001b[1;33m\u001b[0m\u001b[0m\n",
      "\u001b[1;31mRuntimeError\u001b[0m: [enforce fail at ..\\c10\\core\\CPUAllocator.cpp:73] data. DefaultCPUAllocator: not enough memory: you tried to allocate 180633600 bytes. Buy new RAM!"
     ]
    }
   ],
   "source": [
    "outputs_val = model(val_x)\n",
    "_, predicted_val = torch.max(outputs_val, 1)"
   ]
  },
  {
   "cell_type": "code",
   "execution_count": null,
   "metadata": {},
   "outputs": [],
   "source": [
    "val_y"
   ]
  },
  {
   "cell_type": "code",
   "execution_count": null,
   "metadata": {},
   "outputs": [],
   "source": [
    "predicted_val"
   ]
  },
  {
   "cell_type": "code",
   "execution_count": null,
   "metadata": {},
   "outputs": [],
   "source": [
    "accuracy_score(val_y, predicted_val)"
   ]
  },
  {
   "cell_type": "code",
   "execution_count": null,
   "metadata": {},
   "outputs": [],
   "source": []
  }
 ],
 "metadata": {
  "kernelspec": {
   "display_name": "Python 3",
   "language": "python",
   "name": "python3"
  },
  "language_info": {
   "codemirror_mode": {
    "name": "ipython",
    "version": 3
   },
   "file_extension": ".py",
   "mimetype": "text/x-python",
   "name": "python",
   "nbconvert_exporter": "python",
   "pygments_lexer": "ipython3",
   "version": "3.7.1"
  },
  "varInspector": {
   "cols": {
    "lenName": 16,
    "lenType": 16,
    "lenVar": 40
   },
   "kernels_config": {
    "python": {
     "delete_cmd_postfix": "",
     "delete_cmd_prefix": "del ",
     "library": "var_list.py",
     "varRefreshCmd": "print(var_dic_list())"
    },
    "r": {
     "delete_cmd_postfix": ") ",
     "delete_cmd_prefix": "rm(",
     "library": "var_list.r",
     "varRefreshCmd": "cat(var_dic_list()) "
    }
   },
   "types_to_exclude": [
    "module",
    "function",
    "builtin_function_or_method",
    "instance",
    "_Feature"
   ],
   "window_display": false
  }
 },
 "nbformat": 4,
 "nbformat_minor": 4
}
