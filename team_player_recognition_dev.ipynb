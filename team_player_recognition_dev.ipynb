{
 "cells": [
  {
   "cell_type": "code",
   "execution_count": 35,
   "metadata": {},
   "outputs": [],
   "source": [
    "# import libraries\n",
    "import pandas as pd\n",
    "import numpy as np\n",
    "import os\n",
    "\n",
    "# for reading and displaying images\n",
    "from skimage.io import imread\n",
    "import matplotlib.pyplot as plt\n",
    "%matplotlib inline\n",
    "\n",
    "import random\n",
    "\n",
    "# pytorch\n",
    "import torch\n",
    "import torch.nn as nn\n",
    "import torch.nn.functional as F\n",
    "import torch.optim as optim\n",
    "from torch.autograd import Variable\n",
    "\n",
    "from sklearn.model_selection import train_test_split\n",
    "from sklearn import preprocessing\n",
    "from sklearn.metrics import accuracy_score"
   ]
  },
  {
   "cell_type": "code",
   "execution_count": 36,
   "metadata": {},
   "outputs": [],
   "source": [
    "def get_image_info(dirname):\n",
    "    \n",
    "    # initialise list to keep image info\n",
    "    im_info = []\n",
    "    \n",
    "    # get all team folders\n",
    "    teams = [f.name for f in os.scandir(dirname) if f.is_dir()]\n",
    "    \n",
    "    # iterate over each team folder\n",
    "    for team in list(teams):\n",
    "        \n",
    "        # create team directory\n",
    "        teams_dir = os.path.join(dirname,team)\n",
    "        \n",
    "        # get all players for that team\n",
    "        players = [f.name for f in os.scandir(teams_dir) if f.is_dir()]\n",
    "        \n",
    "        # iterate over each player\n",
    "        for player in list(players):\n",
    "            \n",
    "            # create player directory\n",
    "            player_dir = os.path.join(dirname,team,player)\n",
    "            \n",
    "            # get all images for that player\n",
    "            images = [f.name for f in os.scandir(player_dir)]\n",
    "            \n",
    "            # iterate over all images\n",
    "            for image in images:\n",
    "                \n",
    "                # get the image path\n",
    "                impath = os.path.join(dirname,team,player,image)\n",
    "                \n",
    "                # store image info in dict\n",
    "                im_dict = {'Team':team, 'Player': player, 'Image':image, 'Path': impath}\n",
    "                \n",
    "                # append to image info list\n",
    "                im_info.append(im_dict)\n",
    "    \n",
    "    # create dataframe from image info list\n",
    "    df = pd.DataFrame(im_info)\n",
    "    \n",
    "    # return dataframe\n",
    "    return df"
   ]
  },
  {
   "cell_type": "code",
   "execution_count": 37,
   "metadata": {},
   "outputs": [],
   "source": [
    "# get dataframe containing image info\n",
    "df = get_image_info('part1')\n",
    "df = df.iloc[:500]\n",
    "# number of images\n",
    "num_ims = len(df)"
   ]
  },
  {
   "cell_type": "code",
   "execution_count": 38,
   "metadata": {},
   "outputs": [
    {
     "data": {
      "text/html": [
       "<div>\n",
       "<style scoped>\n",
       "    .dataframe tbody tr th:only-of-type {\n",
       "        vertical-align: middle;\n",
       "    }\n",
       "\n",
       "    .dataframe tbody tr th {\n",
       "        vertical-align: top;\n",
       "    }\n",
       "\n",
       "    .dataframe thead th {\n",
       "        text-align: right;\n",
       "    }\n",
       "</style>\n",
       "<table border=\"1\" class=\"dataframe\">\n",
       "  <thead>\n",
       "    <tr style=\"text-align: right;\">\n",
       "      <th></th>\n",
       "      <th>Team</th>\n",
       "      <th>Player</th>\n",
       "      <th>Image</th>\n",
       "      <th>Path</th>\n",
       "    </tr>\n",
       "  </thead>\n",
       "  <tbody>\n",
       "    <tr>\n",
       "      <th>0</th>\n",
       "      <td>bristol</td>\n",
       "      <td>person_11</td>\n",
       "      <td>0.jpg</td>\n",
       "      <td>part1\\bristol\\person_11\\0.jpg</td>\n",
       "    </tr>\n",
       "    <tr>\n",
       "      <th>1</th>\n",
       "      <td>bristol</td>\n",
       "      <td>person_11</td>\n",
       "      <td>1.jpg</td>\n",
       "      <td>part1\\bristol\\person_11\\1.jpg</td>\n",
       "    </tr>\n",
       "    <tr>\n",
       "      <th>2</th>\n",
       "      <td>bristol</td>\n",
       "      <td>person_11</td>\n",
       "      <td>10.jpg</td>\n",
       "      <td>part1\\bristol\\person_11\\10.jpg</td>\n",
       "    </tr>\n",
       "    <tr>\n",
       "      <th>3</th>\n",
       "      <td>bristol</td>\n",
       "      <td>person_11</td>\n",
       "      <td>11.jpg</td>\n",
       "      <td>part1\\bristol\\person_11\\11.jpg</td>\n",
       "    </tr>\n",
       "    <tr>\n",
       "      <th>4</th>\n",
       "      <td>bristol</td>\n",
       "      <td>person_11</td>\n",
       "      <td>12.jpg</td>\n",
       "      <td>part1\\bristol\\person_11\\12.jpg</td>\n",
       "    </tr>\n",
       "    <tr>\n",
       "      <th>...</th>\n",
       "      <td>...</td>\n",
       "      <td>...</td>\n",
       "      <td>...</td>\n",
       "      <td>...</td>\n",
       "    </tr>\n",
       "    <tr>\n",
       "      <th>495</th>\n",
       "      <td>bristol</td>\n",
       "      <td>person_25</td>\n",
       "      <td>32.jpg</td>\n",
       "      <td>part1\\bristol\\person_25\\32.jpg</td>\n",
       "    </tr>\n",
       "    <tr>\n",
       "      <th>496</th>\n",
       "      <td>bristol</td>\n",
       "      <td>person_25</td>\n",
       "      <td>33.jpg</td>\n",
       "      <td>part1\\bristol\\person_25\\33.jpg</td>\n",
       "    </tr>\n",
       "    <tr>\n",
       "      <th>497</th>\n",
       "      <td>bristol</td>\n",
       "      <td>person_25</td>\n",
       "      <td>34.jpg</td>\n",
       "      <td>part1\\bristol\\person_25\\34.jpg</td>\n",
       "    </tr>\n",
       "    <tr>\n",
       "      <th>498</th>\n",
       "      <td>bristol</td>\n",
       "      <td>person_25</td>\n",
       "      <td>35.jpg</td>\n",
       "      <td>part1\\bristol\\person_25\\35.jpg</td>\n",
       "    </tr>\n",
       "    <tr>\n",
       "      <th>499</th>\n",
       "      <td>bristol</td>\n",
       "      <td>person_25</td>\n",
       "      <td>36.jpg</td>\n",
       "      <td>part1\\bristol\\person_25\\36.jpg</td>\n",
       "    </tr>\n",
       "  </tbody>\n",
       "</table>\n",
       "<p>500 rows × 4 columns</p>\n",
       "</div>"
      ],
      "text/plain": [
       "        Team     Player   Image                            Path\n",
       "0    bristol  person_11   0.jpg   part1\\bristol\\person_11\\0.jpg\n",
       "1    bristol  person_11   1.jpg   part1\\bristol\\person_11\\1.jpg\n",
       "2    bristol  person_11  10.jpg  part1\\bristol\\person_11\\10.jpg\n",
       "3    bristol  person_11  11.jpg  part1\\bristol\\person_11\\11.jpg\n",
       "4    bristol  person_11  12.jpg  part1\\bristol\\person_11\\12.jpg\n",
       "..       ...        ...     ...                             ...\n",
       "495  bristol  person_25  32.jpg  part1\\bristol\\person_25\\32.jpg\n",
       "496  bristol  person_25  33.jpg  part1\\bristol\\person_25\\33.jpg\n",
       "497  bristol  person_25  34.jpg  part1\\bristol\\person_25\\34.jpg\n",
       "498  bristol  person_25  35.jpg  part1\\bristol\\person_25\\35.jpg\n",
       "499  bristol  person_25  36.jpg  part1\\bristol\\person_25\\36.jpg\n",
       "\n",
       "[500 rows x 4 columns]"
      ]
     },
     "execution_count": 38,
     "metadata": {},
     "output_type": "execute_result"
    }
   ],
   "source": [
    "df"
   ]
  },
  {
   "cell_type": "code",
   "execution_count": 39,
   "metadata": {},
   "outputs": [
    {
     "data": {
      "text/plain": [
       "<matplotlib.image.AxesImage at 0x1eebde0d518>"
      ]
     },
     "execution_count": 39,
     "metadata": {},
     "output_type": "execute_result"
    },
    {
     "data": {
      "image/png": "[encoded data removed]",
      "text/plain": [
       "<Figure size 432x288 with 1 Axes>"
      ]
     },
     "metadata": {
      "needs_background": "light"
     },
     "output_type": "display_data"
    }
   ],
   "source": [
    "# plot random image\n",
    "ind = random.randint(0,num_ims)\n",
    "\n",
    "image_path = df['Path'].iloc[ind]\n",
    "\n",
    "img = imread(image_path)\n",
    "\n",
    "plt.figure()\n",
    "\n",
    "plt.imshow(img)"
   ]
  },
  {
   "cell_type": "code",
   "execution_count": 40,
   "metadata": {},
   "outputs": [],
   "source": [
    "image_data = []\n",
    "\n",
    "# read in all images\n",
    "for image_path in df['Path']:\n",
    "\n",
    "    img = imread(image_path)\n",
    "    \n",
    "    image_data.append(img)"
   ]
  },
  {
   "cell_type": "code",
   "execution_count": 41,
   "metadata": {},
   "outputs": [],
   "source": [
    "input_data = np.asarray(image_data)"
   ]
  },
  {
   "cell_type": "code",
   "execution_count": 42,
   "metadata": {},
   "outputs": [
    {
     "data": {
      "text/plain": [
       "(500, 224, 224, 3)"
      ]
     },
     "execution_count": 42,
     "metadata": {},
     "output_type": "execute_result"
    }
   ],
   "source": [
    "input_data.shape"
   ]
  },
  {
   "cell_type": "code",
   "execution_count": 43,
   "metadata": {},
   "outputs": [],
   "source": [
    "label_data = df['Player'].values"
   ]
  },
  {
   "cell_type": "code",
   "execution_count": 44,
   "metadata": {},
   "outputs": [
    {
     "data": {
      "text/plain": [
       "array(['person_11', 'person_11', 'person_11', 'person_11', 'person_11',\n",
       "       'person_11', 'person_11', 'person_11', 'person_11', 'person_11',\n",
       "       'person_11', 'person_11', 'person_11', 'person_11', 'person_11',\n",
       "       'person_11', 'person_11', 'person_11', 'person_11', 'person_11',\n",
       "       'person_11', 'person_11', 'person_11', 'person_11', 'person_11',\n",
       "       'person_11', 'person_11', 'person_11', 'person_11', 'person_11',\n",
       "       'person_11', 'person_11', 'person_11', 'person_11', 'person_11',\n",
       "       'person_11', 'person_11', 'person_11', 'person_11', 'person_11',\n",
       "       'person_11', 'person_11', 'person_11', 'person_11', 'person_11',\n",
       "       'person_11', 'person_11', 'person_11', 'person_11', 'person_11',\n",
       "       'person_11', 'person_11', 'person_11', 'person_11', 'person_11',\n",
       "       'person_11', 'person_11', 'person_11', 'person_11', 'person_11',\n",
       "       'person_11', 'person_11', 'person_11', 'person_11', 'person_11',\n",
       "       'person_11', 'person_11', 'person_11', 'person_11', 'person_11',\n",
       "       'person_11', 'person_11', 'person_11', 'person_11', 'person_11',\n",
       "       'person_11', 'person_11', 'person_11', 'person_11', 'person_11',\n",
       "       'person_11', 'person_11', 'person_11', 'person_11', 'person_11',\n",
       "       'person_11', 'person_11', 'person_11', 'person_11', 'person_11',\n",
       "       'person_11', 'person_11', 'person_11', 'person_11', 'person_11',\n",
       "       'person_14', 'person_14', 'person_14', 'person_14', 'person_14',\n",
       "       'person_14', 'person_14', 'person_14', 'person_14', 'person_14',\n",
       "       'person_14', 'person_14', 'person_14', 'person_14', 'person_14',\n",
       "       'person_14', 'person_14', 'person_14', 'person_14', 'person_14',\n",
       "       'person_14', 'person_14', 'person_14', 'person_14', 'person_14',\n",
       "       'person_14', 'person_14', 'person_14', 'person_14', 'person_14',\n",
       "       'person_14', 'person_14', 'person_14', 'person_14', 'person_14',\n",
       "       'person_14', 'person_14', 'person_14', 'person_14', 'person_14',\n",
       "       'person_14', 'person_14', 'person_14', 'person_14', 'person_14',\n",
       "       'person_14', 'person_14', 'person_14', 'person_14', 'person_14',\n",
       "       'person_14', 'person_14', 'person_14', 'person_14', 'person_14',\n",
       "       'person_14', 'person_14', 'person_14', 'person_14', 'person_14',\n",
       "       'person_14', 'person_14', 'person_14', 'person_14', 'person_14',\n",
       "       'person_14', 'person_14', 'person_14', 'person_14', 'person_14',\n",
       "       'person_14', 'person_14', 'person_14', 'person_14', 'person_14',\n",
       "       'person_14', 'person_14', 'person_14', 'person_14', 'person_14',\n",
       "       'person_14', 'person_14', 'person_14', 'person_14', 'person_14',\n",
       "       'person_14', 'person_14', 'person_14', 'person_14', 'person_14',\n",
       "       'person_14', 'person_14', 'person_14', 'person_14', 'person_14',\n",
       "       'person_14', 'person_14', 'person_14', 'person_14', 'person_14',\n",
       "       'person_14', 'person_14', 'person_14', 'person_14', 'person_14',\n",
       "       'person_14', 'person_14', 'person_14', 'person_14', 'person_14',\n",
       "       'person_14', 'person_14', 'person_14', 'person_14', 'person_14',\n",
       "       'person_14', 'person_14', 'person_14', 'person_14', 'person_14',\n",
       "       'person_14', 'person_14', 'person_14', 'person_14', 'person_14',\n",
       "       'person_14', 'person_14', 'person_14', 'person_14', 'person_14',\n",
       "       'person_14', 'person_14', 'person_14', 'person_14', 'person_14',\n",
       "       'person_14', 'person_14', 'person_14', 'person_14', 'person_14',\n",
       "       'person_14', 'person_14', 'person_14', 'person_14', 'person_14',\n",
       "       'person_14', 'person_14', 'person_14', 'person_14', 'person_14',\n",
       "       'person_14', 'person_14', 'person_14', 'person_14', 'person_14',\n",
       "       'person_14', 'person_14', 'person_14', 'person_14', 'person_14',\n",
       "       'person_14', 'person_19', 'person_19', 'person_19', 'person_19',\n",
       "       'person_19', 'person_19', 'person_19', 'person_19', 'person_19',\n",
       "       'person_19', 'person_19', 'person_19', 'person_19', 'person_19',\n",
       "       'person_19', 'person_19', 'person_19', 'person_19', 'person_19',\n",
       "       'person_19', 'person_19', 'person_19', 'person_19', 'person_19',\n",
       "       'person_19', 'person_19', 'person_19', 'person_19', 'person_19',\n",
       "       'person_19', 'person_19', 'person_19', 'person_19', 'person_19',\n",
       "       'person_19', 'person_19', 'person_19', 'person_19', 'person_19',\n",
       "       'person_19', 'person_19', 'person_2', 'person_2', 'person_2',\n",
       "       'person_2', 'person_2', 'person_2', 'person_2', 'person_2',\n",
       "       'person_2', 'person_2', 'person_2', 'person_2', 'person_2',\n",
       "       'person_2', 'person_2', 'person_2', 'person_2', 'person_23',\n",
       "       'person_23', 'person_23', 'person_23', 'person_23', 'person_23',\n",
       "       'person_23', 'person_23', 'person_23', 'person_23', 'person_23',\n",
       "       'person_23', 'person_23', 'person_23', 'person_23', 'person_23',\n",
       "       'person_23', 'person_23', 'person_23', 'person_23', 'person_23',\n",
       "       'person_23', 'person_23', 'person_23', 'person_23', 'person_23',\n",
       "       'person_23', 'person_23', 'person_23', 'person_23', 'person_23',\n",
       "       'person_23', 'person_23', 'person_23', 'person_23', 'person_23',\n",
       "       'person_23', 'person_23', 'person_23', 'person_23', 'person_23',\n",
       "       'person_23', 'person_23', 'person_23', 'person_23', 'person_23',\n",
       "       'person_23', 'person_23', 'person_23', 'person_23', 'person_23',\n",
       "       'person_23', 'person_23', 'person_23', 'person_23', 'person_23',\n",
       "       'person_23', 'person_23', 'person_23', 'person_23', 'person_23',\n",
       "       'person_23', 'person_23', 'person_23', 'person_23', 'person_23',\n",
       "       'person_23', 'person_23', 'person_23', 'person_23', 'person_23',\n",
       "       'person_23', 'person_23', 'person_23', 'person_23', 'person_23',\n",
       "       'person_23', 'person_23', 'person_23', 'person_23', 'person_23',\n",
       "       'person_23', 'person_23', 'person_23', 'person_23', 'person_23',\n",
       "       'person_23', 'person_23', 'person_23', 'person_23', 'person_23',\n",
       "       'person_23', 'person_23', 'person_23', 'person_23', 'person_23',\n",
       "       'person_23', 'person_23', 'person_23', 'person_23', 'person_23',\n",
       "       'person_23', 'person_23', 'person_23', 'person_23', 'person_23',\n",
       "       'person_23', 'person_23', 'person_23', 'person_23', 'person_23',\n",
       "       'person_23', 'person_23', 'person_25', 'person_25', 'person_25',\n",
       "       'person_25', 'person_25', 'person_25', 'person_25', 'person_25',\n",
       "       'person_25', 'person_25', 'person_25', 'person_25', 'person_25',\n",
       "       'person_25', 'person_25', 'person_25', 'person_25', 'person_25',\n",
       "       'person_25', 'person_25', 'person_25', 'person_25', 'person_25',\n",
       "       'person_25', 'person_25', 'person_25', 'person_25', 'person_25',\n",
       "       'person_25', 'person_25', 'person_25', 'person_25', 'person_25',\n",
       "       'person_25', 'person_25', 'person_25', 'person_25', 'person_25',\n",
       "       'person_25', 'person_25', 'person_25', 'person_25', 'person_25',\n",
       "       'person_25', 'person_25', 'person_25', 'person_25', 'person_25',\n",
       "       'person_25', 'person_25', 'person_25', 'person_25', 'person_25',\n",
       "       'person_25', 'person_25', 'person_25', 'person_25', 'person_25',\n",
       "       'person_25', 'person_25', 'person_25', 'person_25', 'person_25',\n",
       "       'person_25', 'person_25', 'person_25', 'person_25', 'person_25',\n",
       "       'person_25', 'person_25', 'person_25', 'person_25', 'person_25'],\n",
       "      dtype=object)"
      ]
     },
     "execution_count": 44,
     "metadata": {},
     "output_type": "execute_result"
    }
   ],
   "source": [
    "label_data"
   ]
  },
  {
   "cell_type": "code",
   "execution_count": 45,
   "metadata": {},
   "outputs": [
    {
     "data": {
      "text/plain": [
       "6"
      ]
     },
     "execution_count": 45,
     "metadata": {},
     "output_type": "execute_result"
    }
   ],
   "source": [
    "len(np.unique(label_data))"
   ]
  },
  {
   "cell_type": "code",
   "execution_count": 46,
   "metadata": {},
   "outputs": [],
   "source": [
    "class Net(nn.Module):\n",
    "    def __init__(self):\n",
    "        super(Net, self).__init__()\n",
    "        self.conv1 = nn.Conv2d(3, 6, kernel_size=3, stride=1, padding=1)\n",
    "        self.pool = nn.MaxPool2d(2, 2)\n",
    "        #self.conv2 = nn.Conv2d(6, 8, kernel_size=3, stride=1, padding=1)\n",
    "        self.fc1 = nn.Linear(6 * 112 * 112, 84)\n",
    "        #self.fc2 = nn.Linear(120, 84)\n",
    "        self.fc3 = nn.Linear(84, 6)\n",
    "\n",
    "    def forward(self, x):\n",
    "        x = self.pool(F.relu(self.conv1(x)))\n",
    "        #x = self.pool(F.relu(self.conv2(x)))\n",
    "        #print(x.size())\n",
    "        x = x.view(-1,6 * 112 * 112)\n",
    "        x = F.relu(self.fc1(x))\n",
    "        #x = F.relu(self.fc2(x))\n",
    "        x = self.fc3(x)\n",
    "        return x\n",
    "\n",
    "\n",
    "model = Net()"
   ]
  },
  {
   "cell_type": "code",
   "execution_count": 47,
   "metadata": {},
   "outputs": [],
   "source": [
    "criterion = nn.CrossEntropyLoss()\n",
    "optimizer = optim.SGD(model.parameters(), lr=0.001, momentum=0.9)"
   ]
  },
  {
   "cell_type": "code",
   "execution_count": 48,
   "metadata": {},
   "outputs": [
    {
     "data": {
      "text/plain": [
       "(350, 224, 224, 3)"
      ]
     },
     "execution_count": 48,
     "metadata": {},
     "output_type": "execute_result"
    }
   ],
   "source": [
    "# create validation set\n",
    "train_x, val_x, train_y, val_y = train_test_split(input_data, label_data, test_size = 0.3,random_state=42)\n",
    "\n",
    "train_x_shape = train_x.shape\n",
    "train_y_shape = train_y.shape\n",
    "val_x_shape = train_x.shape\n",
    "val_y_shape = val_y.shape\n",
    "\n",
    "train_x_shape"
   ]
  },
  {
   "cell_type": "code",
   "execution_count": 49,
   "metadata": {},
   "outputs": [
    {
     "data": {
      "text/plain": [
       "str"
      ]
     },
     "execution_count": 49,
     "metadata": {},
     "output_type": "execute_result"
    }
   ],
   "source": [
    "type(train_y[0])"
   ]
  },
  {
   "cell_type": "code",
   "execution_count": 50,
   "metadata": {},
   "outputs": [
    {
     "data": {
      "text/plain": [
       "(torch.Size([350, 3, 224, 224]), torch.Size([350]))"
      ]
     },
     "execution_count": 50,
     "metadata": {},
     "output_type": "execute_result"
    }
   ],
   "source": [
    "# converting training images into torch format\n",
    "train_x  = torch.from_numpy(train_x).float()\n",
    "val_x  = torch.from_numpy(val_x).float()\n",
    "\n",
    "# encode labels\n",
    "le = preprocessing.LabelEncoder()\n",
    "targets = le.fit_transform(list(train_y))\n",
    "# converting the target into torch format\n",
    "train_y = torch.from_numpy(targets).long()\n",
    "# encode validation labels\n",
    "val_y = le.transform(list(val_y))\n",
    "val_y = torch.from_numpy(val_y).long()\n",
    "\n",
    "# transform shape\n",
    "train_x = train_x.transpose(1,3)\n",
    "val_x = val_x.transpose(1,3)\n",
    "\n",
    "# shape of training data\n",
    "train_x.shape, train_y.shape"
   ]
  },
  {
   "cell_type": "code",
   "execution_count": 51,
   "metadata": {},
   "outputs": [
    {
     "data": {
      "text/plain": [
       "torch.Tensor"
      ]
     },
     "execution_count": 51,
     "metadata": {},
     "output_type": "execute_result"
    }
   ],
   "source": [
    "type(train_y[0])"
   ]
  },
  {
   "cell_type": "code",
   "execution_count": 52,
   "metadata": {},
   "outputs": [],
   "source": [
    "def train(epoch):\n",
    "    model.train()\n",
    "    tr_loss = 0\n",
    "    # getting the training set\n",
    "    x_train = Variable(train_x)\n",
    "    y_train =  Variable(train_y)\n",
    "    # getting the validation set\n",
    "    x_val = Variable(val_x)\n",
    "    y_val = Variable(val_y)\n",
    "\n",
    "\n",
    "    # clearing the Gradients of the model parameters\n",
    "    optimizer.zero_grad()\n",
    "    \n",
    "    # prediction for training and validation set\n",
    "    output_train = model(x_train)\n",
    "    output_val = model(x_val)\n",
    "\n",
    "    # computing the training and validation loss\n",
    "    loss_train = criterion(output_train, y_train)\n",
    "    loss_val = criterion(output_val, y_val)\n",
    "    train_losses.append(loss_train)\n",
    "    val_losses.append(loss_val)\n",
    "\n",
    "    # computing the updated weights of all the model parameters\n",
    "    loss_train.backward()\n",
    "    optimizer.step()\n",
    "    tr_loss = loss_train.item()\n",
    "    if epoch%2 == 0:\n",
    "        # printing the validation loss\n",
    "        print('Epoch : ',epoch+1, '\\t', 'loss :', loss_val)"
   ]
  },
  {
   "cell_type": "code",
   "execution_count": 53,
   "metadata": {},
   "outputs": [
    {
     "name": "stdout",
     "output_type": "stream",
     "text": [
      "Epoch :  1 \t loss : tensor(5.6255, grad_fn=<NllLossBackward>)\n",
      "Epoch :  3 \t loss : tensor(11.8873, grad_fn=<NllLossBackward>)\n",
      "Epoch :  5 \t loss : tensor(1.8975, grad_fn=<NllLossBackward>)\n",
      "Epoch :  7 \t loss : tensor(1.7878, grad_fn=<NllLossBackward>)\n",
      "Epoch :  9 \t loss : tensor(1.7704, grad_fn=<NllLossBackward>)\n",
      "Epoch :  11 \t loss : tensor(1.7608, grad_fn=<NllLossBackward>)\n",
      "Epoch :  13 \t loss : tensor(1.7637, grad_fn=<NllLossBackward>)\n",
      "Epoch :  15 \t loss : tensor(1.7525, grad_fn=<NllLossBackward>)\n",
      "Epoch :  17 \t loss : tensor(1.7454, grad_fn=<NllLossBackward>)\n",
      "Epoch :  19 \t loss : tensor(1.7392, grad_fn=<NllLossBackward>)\n",
      "Epoch :  21 \t loss : tensor(1.7454, grad_fn=<NllLossBackward>)\n",
      "Epoch :  23 \t loss : tensor(1.7475, grad_fn=<NllLossBackward>)\n",
      "Epoch :  25 \t loss : tensor(1.7479, grad_fn=<NllLossBackward>)\n"
     ]
    }
   ],
   "source": [
    "# defining the number of epochs\n",
    "n_epochs = 25\n",
    "# empty list to store training losses\n",
    "train_losses = []\n",
    "# empty list to store validation losses\n",
    "val_losses = []\n",
    "# training the model\n",
    "for epoch in range(n_epochs):\n",
    "    train(epoch)"
   ]
  },
  {
   "cell_type": "code",
   "execution_count": 54,
   "metadata": {},
   "outputs": [
    {
     "data": {
      "text/plain": [
       "[tensor(5.1392, grad_fn=<NllLossBackward>),\n",
       " tensor(2405.9751, grad_fn=<NllLossBackward>),\n",
       " tensor(11.5526, grad_fn=<NllLossBackward>),\n",
       " tensor(1.7954, grad_fn=<NllLossBackward>),\n",
       " tensor(1.7966, grad_fn=<NllLossBackward>),\n",
       " tensor(1.7759, grad_fn=<NllLossBackward>),\n",
       " tensor(1.7459, grad_fn=<NllLossBackward>),\n",
       " tensor(1.7183, grad_fn=<NllLossBackward>),\n",
       " tensor(1.7474, grad_fn=<NllLossBackward>),\n",
       " tensor(1.7445, grad_fn=<NllLossBackward>),\n",
       " tensor(1.7663, grad_fn=<NllLossBackward>),\n",
       " tensor(1.7712, grad_fn=<NllLossBackward>),\n",
       " tensor(1.7681, grad_fn=<NllLossBackward>),\n",
       " tensor(1.7614, grad_fn=<NllLossBackward>),\n",
       " tensor(1.7541, grad_fn=<NllLossBackward>),\n",
       " tensor(1.7481, grad_fn=<NllLossBackward>),\n",
       " tensor(1.7412, grad_fn=<NllLossBackward>),\n",
       " tensor(1.7340, grad_fn=<NllLossBackward>),\n",
       " tensor(1.7357, grad_fn=<NllLossBackward>),\n",
       " tensor(1.7370, grad_fn=<NllLossBackward>),\n",
       " tensor(1.7386, grad_fn=<NllLossBackward>),\n",
       " tensor(1.7397, grad_fn=<NllLossBackward>),\n",
       " tensor(1.7394, grad_fn=<NllLossBackward>),\n",
       " tensor(1.7368, grad_fn=<NllLossBackward>),\n",
       " tensor(1.7355, grad_fn=<NllLossBackward>)]"
      ]
     },
     "execution_count": 54,
     "metadata": {},
     "output_type": "execute_result"
    }
   ],
   "source": [
    "train_losses"
   ]
  },
  {
   "cell_type": "code",
   "execution_count": 55,
   "metadata": {},
   "outputs": [
    {
     "data": {
      "text/plain": [
       "[tensor(5.6255, grad_fn=<NllLossBackward>),\n",
       " tensor(1962.6808, grad_fn=<NllLossBackward>),\n",
       " tensor(11.8873, grad_fn=<NllLossBackward>),\n",
       " tensor(1.8676, grad_fn=<NllLossBackward>),\n",
       " tensor(1.8975, grad_fn=<NllLossBackward>),\n",
       " tensor(1.8667, grad_fn=<NllLossBackward>),\n",
       " tensor(1.7878, grad_fn=<NllLossBackward>),\n",
       " tensor(1.7289, grad_fn=<NllLossBackward>),\n",
       " tensor(1.7704, grad_fn=<NllLossBackward>),\n",
       " tensor(1.7418, grad_fn=<NllLossBackward>),\n",
       " tensor(1.7608, grad_fn=<NllLossBackward>),\n",
       " tensor(1.7661, grad_fn=<NllLossBackward>),\n",
       " tensor(1.7637, grad_fn=<NllLossBackward>),\n",
       " tensor(1.7583, grad_fn=<NllLossBackward>),\n",
       " tensor(1.7525, grad_fn=<NllLossBackward>),\n",
       " tensor(1.7492, grad_fn=<NllLossBackward>),\n",
       " tensor(1.7454, grad_fn=<NllLossBackward>),\n",
       " tensor(1.7388, grad_fn=<NllLossBackward>),\n",
       " tensor(1.7392, grad_fn=<NllLossBackward>),\n",
       " tensor(1.7428, grad_fn=<NllLossBackward>),\n",
       " tensor(1.7454, grad_fn=<NllLossBackward>),\n",
       " tensor(1.7472, grad_fn=<NllLossBackward>),\n",
       " tensor(1.7475, grad_fn=<NllLossBackward>),\n",
       " tensor(1.7448, grad_fn=<NllLossBackward>),\n",
       " tensor(1.7479, grad_fn=<NllLossBackward>)]"
      ]
     },
     "execution_count": 55,
     "metadata": {},
     "output_type": "execute_result"
    }
   ],
   "source": [
    "val_losses"
   ]
  },
  {
   "cell_type": "code",
   "execution_count": 56,
   "metadata": {},
   "outputs": [],
   "source": [
    "conv_layer = nn.Conv2d(in_channels = 6, out_channels = 16, kernel_size = (3,3), stride = 1, padding=1)"
   ]
  },
  {
   "cell_type": "code",
   "execution_count": 57,
   "metadata": {},
   "outputs": [
    {
     "data": {
      "text/plain": [
       "torch.Size([100, 16, 224, 224])"
      ]
     },
     "execution_count": 57,
     "metadata": {},
     "output_type": "execute_result"
    }
   ],
   "source": [
    "x = torch.randn((100,6,224,224))\n",
    "conv_layer(x).size()"
   ]
  },
  {
   "cell_type": "code",
   "execution_count": 58,
   "metadata": {},
   "outputs": [],
   "source": [
    "x_in = torch.randn(100,16,224,224)\n",
    "pool_layer = nn.MaxPool2d(2, 2)"
   ]
  },
  {
   "cell_type": "code",
   "execution_count": 59,
   "metadata": {},
   "outputs": [
    {
     "data": {
      "text/plain": [
       "torch.Size([100, 16, 112, 112])"
      ]
     },
     "execution_count": 59,
     "metadata": {},
     "output_type": "execute_result"
    }
   ],
   "source": [
    "pool_layer(x_in).size()"
   ]
  },
  {
   "cell_type": "code",
   "execution_count": 60,
   "metadata": {},
   "outputs": [],
   "source": [
    "outputs = model(train_x)"
   ]
  },
  {
   "cell_type": "code",
   "execution_count": 61,
   "metadata": {},
   "outputs": [],
   "source": [
    "_, predicted = torch.max(outputs, 1)"
   ]
  },
  {
   "cell_type": "code",
   "execution_count": 62,
   "metadata": {},
   "outputs": [
    {
     "data": {
      "text/plain": [
       "tensor([1, 1, 1, 1, 1, 1, 1, 1, 1, 1, 1, 1, 1, 1, 1, 1, 1, 1, 1, 1, 1, 1, 1, 1,\n",
       "        1, 1, 1, 1, 1, 1, 1, 1, 1, 1, 1, 1, 1, 1, 1, 1, 1, 1, 1, 1, 1, 1, 1, 1,\n",
       "        1, 1, 1, 1, 1, 1, 1, 1, 1, 1, 1, 1, 1, 1, 1, 1, 1, 1, 1, 1, 1, 1, 1, 1,\n",
       "        1, 1, 1, 1, 1, 1, 1, 1, 1, 1, 1, 1, 1, 1, 1, 1, 1, 1, 1, 1, 1, 1, 1, 1,\n",
       "        1, 1, 1, 1, 1, 1, 1, 1, 1, 1, 1, 1, 1, 1, 1, 1, 1, 1, 1, 1, 1, 1, 1, 1,\n",
       "        1, 1, 1, 1, 1, 1, 1, 1, 1, 1, 1, 1, 1, 1, 1, 1, 1, 1, 1, 1, 1, 1, 1, 1,\n",
       "        1, 1, 1, 1, 1, 1, 1, 1, 1, 1, 1, 1, 1, 1, 1, 1, 1, 1, 1, 1, 1, 1, 1, 1,\n",
       "        1, 1, 1, 1, 1, 1, 1, 1, 1, 1, 1, 1, 1, 1, 1, 1, 1, 1, 1, 1, 1, 1, 1, 1,\n",
       "        1, 1, 1, 1, 1, 1, 1, 1, 1, 1, 1, 1, 1, 1, 1, 1, 1, 1, 1, 1, 1, 1, 1, 1,\n",
       "        1, 1, 1, 1, 1, 1, 1, 1, 1, 1, 1, 1, 1, 1, 1, 1, 1, 1, 1, 1, 1, 1, 1, 1,\n",
       "        1, 1, 1, 1, 1, 1, 1, 1, 1, 1, 1, 1, 1, 1, 1, 1, 5, 1, 1, 1, 1, 1, 1, 1,\n",
       "        1, 1, 1, 1, 1, 1, 1, 1, 1, 1, 1, 1, 1, 1, 1, 1, 1, 1, 1, 1, 1, 1, 1, 1,\n",
       "        1, 1, 1, 1, 1, 1, 1, 1, 1, 1, 1, 1, 1, 1, 1, 1, 1, 1, 1, 1, 1, 1, 1, 1,\n",
       "        1, 1, 1, 1, 1, 1, 1, 1, 1, 1, 1, 1, 1, 1, 1, 1, 1, 1, 1, 1, 1, 1, 1, 1,\n",
       "        1, 1, 1, 1, 1, 1, 1, 1, 1, 1, 1, 1, 1, 1])"
      ]
     },
     "execution_count": 62,
     "metadata": {},
     "output_type": "execute_result"
    }
   ],
   "source": [
    "predicted"
   ]
  },
  {
   "cell_type": "code",
   "execution_count": 63,
   "metadata": {},
   "outputs": [
    {
     "data": {
      "text/plain": [
       "tensor([0, 1, 0, 0, 5, 4, 0, 1, 4, 0, 1, 4, 5, 0, 5, 5, 0, 0, 5, 1, 0, 1, 5, 1,\n",
       "        1, 1, 4, 1, 1, 4, 4, 1, 4, 2, 5, 1, 4, 0, 1, 1, 5, 4, 4, 2, 1, 1, 1, 0,\n",
       "        1, 4, 5, 0, 1, 1, 1, 1, 1, 0, 5, 4, 1, 1, 3, 3, 1, 4, 4, 1, 4, 1, 4, 2,\n",
       "        0, 1, 1, 4, 1, 5, 2, 0, 1, 0, 5, 0, 4, 4, 4, 1, 1, 1, 4, 1, 5, 0, 4, 1,\n",
       "        0, 0, 4, 1, 5, 2, 5, 1, 3, 4, 1, 4, 1, 5, 2, 1, 4, 1, 1, 1, 5, 1, 4, 1,\n",
       "        1, 1, 1, 3, 3, 4, 4, 4, 2, 1, 3, 1, 4, 1, 1, 4, 2, 5, 4, 2, 4, 2, 4, 4,\n",
       "        1, 1, 3, 5, 5, 5, 4, 1, 3, 1, 1, 1, 2, 1, 1, 1, 4, 1, 4, 4, 1, 2, 4, 1,\n",
       "        4, 4, 1, 5, 0, 5, 0, 2, 0, 1, 1, 4, 1, 0, 0, 0, 1, 1, 4, 4, 1, 1, 0, 1,\n",
       "        5, 4, 1, 0, 5, 4, 1, 2, 1, 4, 0, 2, 5, 1, 1, 5, 1, 1, 1, 2, 1, 0, 0, 0,\n",
       "        2, 4, 1, 5, 0, 4, 1, 2, 2, 1, 4, 1, 0, 1, 1, 5, 0, 4, 5, 0, 3, 0, 1, 0,\n",
       "        4, 5, 4, 1, 2, 5, 5, 4, 1, 1, 1, 2, 5, 1, 5, 5, 3, 4, 2, 1, 1, 0, 1, 4,\n",
       "        1, 3, 2, 1, 0, 4, 0, 5, 5, 0, 4, 0, 1, 0, 2, 5, 4, 0, 4, 5, 0, 4, 2, 1,\n",
       "        0, 4, 0, 4, 2, 1, 4, 5, 1, 3, 5, 4, 1, 0, 4, 0, 5, 1, 5, 1, 5, 1, 1, 0,\n",
       "        0, 4, 1, 1, 0, 3, 5, 1, 2, 5, 1, 4, 2, 4, 4, 2, 3, 1, 1, 1, 4, 1, 4, 0,\n",
       "        5, 4, 1, 5, 1, 5, 0, 1, 0, 1, 2, 4, 5, 1])"
      ]
     },
     "execution_count": 63,
     "metadata": {},
     "output_type": "execute_result"
    }
   ],
   "source": [
    "train_y"
   ]
  },
  {
   "cell_type": "code",
   "execution_count": 64,
   "metadata": {},
   "outputs": [
    {
     "data": {
      "text/plain": [
       "0.3514285714285714"
      ]
     },
     "execution_count": 64,
     "metadata": {},
     "output_type": "execute_result"
    }
   ],
   "source": [
    "accuracy_score(train_y, predicted)"
   ]
  },
  {
   "cell_type": "code",
   "execution_count": 65,
   "metadata": {},
   "outputs": [],
   "source": [
    "outputs_val = model(val_x)\n",
    "_, predicted_val = torch.max(outputs_val, 1)"
   ]
  },
  {
   "cell_type": "code",
   "execution_count": 66,
   "metadata": {},
   "outputs": [
    {
     "data": {
      "text/plain": [
       "tensor([4, 0, 4, 1, 1, 4, 4, 1, 0, 5, 0, 1, 4, 0, 4, 4, 5, 0, 4, 4, 5, 5, 2, 4,\n",
       "        0, 5, 5, 1, 1, 4, 5, 4, 5, 1, 0, 4, 4, 0, 1, 0, 4, 0, 5, 1, 0, 0, 0, 0,\n",
       "        4, 0, 0, 1, 1, 4, 1, 0, 1, 0, 1, 0, 5, 2, 4, 5, 0, 0, 5, 0, 1, 4, 4, 4,\n",
       "        2, 2, 4, 3, 2, 0, 5, 5, 1, 0, 5, 1, 4, 0, 1, 4, 3, 2, 4, 5, 4, 4, 5, 4,\n",
       "        0, 0, 5, 0, 1, 5, 0, 4, 4, 0, 3, 1, 4, 1, 1, 4, 4, 0, 5, 2, 1, 1, 1, 0,\n",
       "        1, 1, 4, 1, 1, 1, 4, 1, 1, 4, 0, 1, 5, 2, 1, 0, 1, 0, 0, 2, 0, 1, 5, 0,\n",
       "        1, 2, 0, 1, 2, 4])"
      ]
     },
     "execution_count": 66,
     "metadata": {},
     "output_type": "execute_result"
    }
   ],
   "source": [
    "val_y"
   ]
  },
  {
   "cell_type": "code",
   "execution_count": 67,
   "metadata": {},
   "outputs": [
    {
     "data": {
      "text/plain": [
       "tensor([1, 1, 1, 1, 1, 1, 1, 1, 1, 1, 1, 1, 1, 1, 1, 1, 1, 1, 1, 1, 1, 1, 1, 1,\n",
       "        1, 1, 1, 1, 1, 1, 1, 1, 1, 1, 1, 1, 1, 1, 1, 1, 1, 1, 1, 1, 1, 1, 1, 1,\n",
       "        1, 1, 1, 1, 1, 1, 1, 1, 1, 1, 1, 1, 1, 1, 1, 1, 1, 1, 1, 1, 1, 1, 1, 1,\n",
       "        1, 1, 1, 1, 1, 1, 1, 1, 1, 1, 1, 1, 1, 1, 1, 1, 1, 1, 1, 1, 1, 1, 1, 1,\n",
       "        1, 1, 1, 1, 1, 1, 1, 1, 1, 1, 1, 1, 1, 1, 1, 1, 1, 1, 1, 1, 1, 1, 1, 1,\n",
       "        1, 1, 1, 1, 1, 1, 1, 1, 1, 1, 1, 1, 1, 1, 1, 1, 1, 1, 1, 1, 1, 1, 1, 1,\n",
       "        1, 1, 1, 1, 1, 1])"
      ]
     },
     "execution_count": 67,
     "metadata": {},
     "output_type": "execute_result"
    }
   ],
   "source": [
    "predicted_val"
   ]
  },
  {
   "cell_type": "code",
   "execution_count": 68,
   "metadata": {},
   "outputs": [
    {
     "data": {
      "text/plain": [
       "0.25333333333333335"
      ]
     },
     "execution_count": 68,
     "metadata": {},
     "output_type": "execute_result"
    }
   ],
   "source": [
    "accuracy_score(val_y, predicted_val)"
   ]
  },
  {
   "cell_type": "code",
   "execution_count": null,
   "metadata": {},
   "outputs": [],
   "source": []
  }
 ],
 "metadata": {
  "kernelspec": {
   "display_name": "Python 3",
   "language": "python",
   "name": "python3"
  },
  "language_info": {
   "codemirror_mode": {
    "name": "ipython",
    "version": 3
   },
   "file_extension": ".py",
   "mimetype": "text/x-python",
   "name": "python",
   "nbconvert_exporter": "python",
   "pygments_lexer": "ipython3",
   "version": "3.6.5"
  },
  "varInspector": {
   "cols": {
    "lenName": 16,
    "lenType": 16,
    "lenVar": 40
   },
   "kernels_config": {
    "python": {
     "delete_cmd_postfix": "",
     "delete_cmd_prefix": "del ",
     "library": "var_list.py",
     "varRefreshCmd": "print(var_dic_list())"
    },
    "r": {
     "delete_cmd_postfix": ") ",
     "delete_cmd_prefix": "rm(",
     "library": "var_list.r",
     "varRefreshCmd": "cat(var_dic_list()) "
    }
   },
   "types_to_exclude": [
    "module",
    "function",
    "builtin_function_or_method",
    "instance",
    "_Feature"
   ],
   "window_display": false
  }
 },
 "nbformat": 4,
 "nbformat_minor": 4
}
